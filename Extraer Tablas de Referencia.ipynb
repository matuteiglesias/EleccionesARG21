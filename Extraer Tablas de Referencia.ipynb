{
 "cells": [
  {
   "cell_type": "code",
   "execution_count": 1,
   "metadata": {},
   "outputs": [
    {
     "data": {
      "text/html": [
       "<style>.container { width:100% !important; }</style>"
      ],
      "text/plain": [
       "<IPython.core.display.HTML object>"
      ]
     },
     "metadata": {},
     "output_type": "display_data"
    }
   ],
   "source": [
    "import pandas as pd\n",
    "\n",
    "pd.options.display.max_rows = 400\n",
    "pd.options.display.max_colwidth = 400\n",
    "\n",
    "from IPython.core.display import display, HTML\n",
    "display(HTML(\"<style>.container { width:100% !important; }</style>\"))"
   ]
  },
  {
   "cell_type": "code",
   "execution_count": 2,
   "metadata": {},
   "outputs": [
    {
     "name": "stdout",
     "output_type": "stream",
     "text": [
      "Formosa.csv\n",
      "Neuquén.csv\n",
      "Buenos_Aires_Segunda.csv\n"
     ]
    },
    {
     "name": "stderr",
     "output_type": "stream",
     "text": [
      "/home/miglesia/anaconda3/lib/python3.8/site-packages/IPython/core/interactiveshell.py:3146: DtypeWarning: Columns (7) have mixed types.Specify dtype option on import or set low_memory=False.\n",
      "  has_raised = await self.run_ast_nodes(code_ast.body, cell_name,\n"
     ]
    },
    {
     "name": "stdout",
     "output_type": "stream",
     "text": [
      "Misiones.csv\n",
      "Entre_Ríos.csv\n",
      "Chaco.csv\n",
      "La_Pampa.csv\n",
      "Santa_Cruz.csv\n",
      "Catamarca.csv\n",
      "Ciudad_Autónoma_de_Buenos_Aires.csv\n",
      "San_Juan.csv\n",
      "San_Luis.csv\n",
      "Buenos_Aires_Capital.csv\n",
      "Chubut.csv\n",
      "Santiago_del_Estero.csv\n",
      "Buenos_Aires_Sexta.csv\n",
      "Buenos_Aires_Primera.csv\n",
      "Santa_Fe.csv\n",
      "Tierra_del_Fuego,_Antártida_e_Islas_del_Atlántico_Sur.csv\n",
      "Corrientes.csv\n",
      "Mendoza.csv\n",
      "Buenos_Aires_Cuarta.csv\n",
      "Buenos_Aires_Quinta.csv\n",
      "Salta.csv\n",
      "Tucumán.csv\n",
      "Buenos_Aires_Tercera.csv\n",
      "Jujuy.csv\n",
      "Córdoba.csv\n",
      "Río_Negro.csv\n",
      "La_Rioja.csv\n",
      "Buenos_Aires_Septima.csv\n"
     ]
    }
   ],
   "source": [
    "from pathlib import Path\n",
    "\n",
    "p = Path('./data/')\n",
    "\n",
    "rf_regiones_list = []\n",
    "rf_mesas_list = []\n",
    "rf_listas_list = []\n",
    "\n",
    "for file in p.glob('**/*'):\n",
    "    print(file.name)\n",
    "    \n",
    "    cols = ['IdDistrito', 'Distrito', 'IdSeccion', 'Seccion', 'IdCircuito']\n",
    "    df_regiones = pd.read_csv(file, ';', usecols = cols)\n",
    "    rf_regiones = df_regiones.drop_duplicates()[cols]\n",
    "    rf_regiones_list += [rf_regiones]\n",
    "    \n",
    "    \n",
    "    cols = ['IdCircuito', 'Codigo', 'Establecimiento', 'Mesa']\n",
    "    df_mesas = pd.read_csv(file, ';', usecols = cols)\n",
    "    rf_mesas = df_mesas.drop_duplicates()[cols]\n",
    "    rf_mesas_list += [rf_mesas]\n",
    "    \n",
    "    \n",
    "#     print(pd.read_csv(file, ';', usecols = ['Agrupacion']).nunique()) # Hay un problemita con parseo de ciertas filas\n",
    "    cols = ['IdDistrito', 'Distrito', 'IdCargo', 'Cargo', 'idAgrupacion', 'Agrupacion', 'idLista', 'lista']\n",
    "    df_listas = pd.read_csv(file, ';', usecols = cols)\n",
    "    rf_listas = df_listas.drop_duplicates()[cols]\n",
    "    rf_listas_list += [rf_listas]\n",
    "    \n",
    "    \n",
    "rf_regiones = pd.concat(rf_regiones_list).reset_index(drop = True)\n",
    "rf_mesas = pd.concat(rf_mesas_list).reset_index(drop = True)\n",
    "rf_listas = pd.concat(rf_listas_list).reset_index(drop = True)\n",
    "rf_listas = rf_listas.loc[rf_listas.count(1) != 1] # Forma bruta de evadir el problema de parseo. Puede que alguna lista quede fuera de la tabla."
   ]
  },
  {
   "cell_type": "code",
   "execution_count": 3,
   "metadata": {},
   "outputs": [],
   "source": [
    "rf_regiones.to_csv('./tablas_entidades/regiones.csv', index = False)\n",
    "rf_mesas.to_csv('./tablas_entidades/mesas.csv', index = False)\n",
    "rf_listas.to_csv('./tablas_entidades/postulaciones.csv', index = False)"
   ]
  },
  {
   "cell_type": "code",
   "execution_count": null,
   "metadata": {},
   "outputs": [],
   "source": []
  }
 ],
 "metadata": {
  "kernelspec": {
   "display_name": "Python 3",
   "language": "python",
   "name": "python3"
  },
  "language_info": {
   "codemirror_mode": {
    "name": "ipython",
    "version": 3
   },
   "file_extension": ".py",
   "mimetype": "text/x-python",
   "name": "python",
   "nbconvert_exporter": "python",
   "pygments_lexer": "ipython3",
   "version": "3.8.5"
  }
 },
 "nbformat": 4,
 "nbformat_minor": 4
}
