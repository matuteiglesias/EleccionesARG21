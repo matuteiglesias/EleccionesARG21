{
 "cells": [
  {
   "cell_type": "code",
   "execution_count": 1,
   "metadata": {},
   "outputs": [],
   "source": [
    "import pandas as pd"
   ]
  },
  {
   "cell_type": "code",
   "execution_count": 2,
   "metadata": {},
   "outputs": [],
   "source": [
    "import os\n",
    "import zipfile"
   ]
  },
  {
   "cell_type": "code",
   "execution_count": 3,
   "metadata": {},
   "outputs": [],
   "source": [
    "# Si no esta el directorio lo crea\n",
    "if not os.path.exists('./data'):\n",
    "    os.makedirs('./data')\n",
    "\n",
    "    for file in os.listdir('./source_zip/'):   # get the list of files\n",
    "    #     if zipfile.is_zipfile(file): # if it is a zipfile, extract it\n",
    "    #     filename = file.split('.')[0]\n",
    "\n",
    "        with zipfile.ZipFile('./source_zip/'+file) as item: # treat the file as a zip\n",
    "            item.extractall('./data')  # extract it in the working directory\n",
    "            "
   ]
  },
  {
   "cell_type": "code",
   "execution_count": 20,
   "metadata": {},
   "outputs": [
    {
     "name": "stdout",
     "output_type": "stream",
     "text": [
      "Salta.csv\n"
     ]
    }
   ],
   "source": [
    "from pathlib import Path\n",
    "\n",
    "p = Path('./data/')\n",
    "\n",
    "for file in p.glob('**/*.xlsx'):\n",
    "    print(file.stem)\n",
    "    df = pd.read_excel(file) # Archivo descomprimido\n",
    "    \n",
    "    # Save as csv\n",
    "    df.to_csv('./data/'+file.stem, index = False)\n",
    "    \n",
    "    # Remove xlsx\n",
    "    os.remove(file)\n"
   ]
  },
  {
   "cell_type": "code",
   "execution_count": 19,
   "metadata": {},
   "outputs": [],
   "source": [
    "for file in p.glob('**/*'):\n",
    "#     print(file.stem)\n",
    "    os.rename('./data/'+file.name, './data/'+file.name.replace(' ', '_').replace('__', '_'))"
   ]
  }
 ],
 "metadata": {
  "kernelspec": {
   "display_name": "Python 3",
   "language": "python",
   "name": "python3"
  },
  "language_info": {
   "codemirror_mode": {
    "name": "ipython",
    "version": 3
   },
   "file_extension": ".py",
   "mimetype": "text/x-python",
   "name": "python",
   "nbconvert_exporter": "python",
   "pygments_lexer": "ipython3",
   "version": "3.8.5"
  }
 },
 "nbformat": 4,
 "nbformat_minor": 4
}
